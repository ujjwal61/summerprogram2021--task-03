{
 "cells": [
  {
   "cell_type": "code",
   "execution_count": 1,
   "metadata": {},
   "outputs": [],
   "source": [
    "import socket as soc\n",
    "import cv2,pickle,struct"
   ]
  },
  {
   "cell_type": "code",
   "execution_count": 2,
   "metadata": {},
   "outputs": [
    {
     "name": "stdout",
     "output_type": "stream",
     "text": [
      "Created successfully\n"
     ]
    }
   ],
   "source": [
    "client_soc = soc.socket(soc.AF_INET,soc.SOCK_STREAM)\n",
    "host_ip=\"192.168.99.1\"\n",
    "port =  9090\n",
    "print(\"Created successfully\")"
   ]
  },
  {
   "cell_type": "code",
   "execution_count": 3,
   "metadata": {},
   "outputs": [
    {
     "name": "stdout",
     "output_type": "stream",
     "text": [
      "SOCKET ACCEPTED\n"
     ]
    }
   ],
   "source": [
    "client_soc.connect((host_ip,port))\n",
    "data = b\"\"\n",
    "payload_size =  struct.calcsize(\"Q\")\n",
    "print(\"SOCKET ACCEPTED\")"
   ]
  },
  {
   "cell_type": "code",
   "execution_count": 4,
   "metadata": {},
   "outputs": [],
   "source": [
    "while True:\n",
    "    while len(data) < payload_size:\n",
    "        packet = client_soc.recv(2160)\n",
    "        if not packet :\n",
    "            break\n",
    "        data += packet\n",
    "    packed_msg_size = data[:payload_size]\n",
    "    data = data[payload_size:]\n",
    "    msg_size = struct.unpack(\"Q\",packed_msg_size)[0]\n",
    "\n",
    "    while len(data) < msg_size:\n",
    "        data += client_soc.recv(2160)\n",
    "    frame_data = data[:msg_size]\n",
    "    data = data[msg_size:]\n",
    "    frame= pickle.loads(frame_data)\n",
    "    cv2.imshow(\"Video Received\",frame)\n",
    "    key = cv2.waitKey(1) & 0xFF\n",
    "    if key ==ord('q'):\n",
    "            break     \n",
    "client_soc.close()"
   ]
  },
  {
   "cell_type": "code",
   "execution_count": null,
   "metadata": {},
   "outputs": [],
   "source": []
  }
 ],
 "metadata": {
  "kernelspec": {
   "display_name": "Python 3",
   "language": "python",
   "name": "python3"
  },
  "language_info": {
   "codemirror_mode": {
    "name": "ipython",
    "version": 3
   },
   "file_extension": ".py",
   "mimetype": "text/x-python",
   "name": "python",
   "nbconvert_exporter": "python",
   "pygments_lexer": "ipython3",
   "version": "3.8.3"
  }
 },
 "nbformat": 4,
 "nbformat_minor": 4
}
